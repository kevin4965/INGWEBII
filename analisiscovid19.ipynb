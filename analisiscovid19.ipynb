{
  "nbformat": 4,
  "nbformat_minor": 0,
  "metadata": {
    "colab": {
      "provenance": [],
      "authorship_tag": "ABX9TyNkm07xb4Ex5l6q0vwZv3Hv",
      "include_colab_link": true
    },
    "kernelspec": {
      "name": "python3",
      "display_name": "Python 3"
    },
    "language_info": {
      "name": "python"
    }
  },
  "cells": [
    {
      "cell_type": "markdown",
      "metadata": {
        "id": "view-in-github",
        "colab_type": "text"
      },
      "source": [
        "<a href=\"https://colab.research.google.com/github/kevin4965/INGWEBII/blob/master/analisiscovid19.ipynb\" target=\"_parent\"><img src=\"https://colab.research.google.com/assets/colab-badge.svg\" alt=\"Open In Colab\"/></a>"
      ]
    },
    {
      "cell_type": "markdown",
      "source": [
        "JOSE QUEVIN ORDOÑEZ SANCHEZ\n",
        "PREICA2501B010058\n",
        "Análisis exploratorio de datos del Covid-19 en Colombia\n",
        "Analítica de Datos Para Ingeniería Software y Datos\n",
        "Andrés Felipe Palacio\n",
        "Institución Universitaria Digital de Antioquia\n",
        "Medellín, Antioquia.\n",
        "2025\n",
        "\n",
        "\n",
        "\n",
        "\n"
      ],
      "metadata": {
        "id": "YArwJFY0chPp"
      }
    },
    {
      "cell_type": "markdown",
      "source": [
        "**EJERCICIO 1**"
      ],
      "metadata": {
        "id": "v4ju_MM2osFX"
      }
    },
    {
      "cell_type": "markdown",
      "source": [
        "**Importa las siguientes librerías: Numpy, Pandas, MatplotLib.**"
      ],
      "metadata": {
        "id": "IltFehmrpeJV"
      }
    },
    {
      "cell_type": "code",
      "source": [
        "#importar librerias\n",
        "import pandas as pd\n",
        "import numpy as np\n",
        "import matplotlib.pyplot as plt"
      ],
      "metadata": {
        "id": "QgWwBUqWcoMf"
      },
      "execution_count": 2,
      "outputs": []
    },
    {
      "cell_type": "markdown",
      "source": [
        "**Carga los datos desde el sitio web que te sugerimos.**"
      ],
      "metadata": {
        "id": "QB8YVN1_pm-0"
      }
    },
    {
      "cell_type": "code",
      "source": [
        "datos = pd.read_csv('https://www.datos.gov.co/api/views/gt2j-8ykr/rows.csv?accessType=DOWNLOAD&bom=true&format=true')"
      ],
      "metadata": {
        "colab": {
          "base_uri": "https://localhost:8080/"
        },
        "id": "VaJAbwTZpqez",
        "outputId": "ea3aa0cb-34d2-4b43-bc7d-3c510f4b9594"
      },
      "execution_count": 3,
      "outputs": [
        {
          "output_type": "stream",
          "name": "stderr",
          "text": [
            "<ipython-input-3-f02b5dc7a296>:1: DtypeWarning: Columns (13,14) have mixed types. Specify dtype option on import or set low_memory=False.\n",
            "  datos = pd.read_csv('https://www.datos.gov.co/api/views/gt2j-8ykr/rows.csv?accessType=DOWNLOAD&bom=true&format=true')\n"
          ]
        }
      ]
    },
    {
      "cell_type": "markdown",
      "source": [
        "**Obtén la información estructural del DataFrame con el método .info(), y describe los resultados**"
      ],
      "metadata": {
        "id": "u-4AMuwBp3sB"
      }
    },
    {
      "cell_type": "code",
      "source": [
        "print (datos.info())"
      ],
      "metadata": {
        "colab": {
          "base_uri": "https://localhost:8080/"
        },
        "id": "uhvCLqjup7iu",
        "outputId": "a48d8524-2e7e-449f-b804-fd7265c2ad0f"
      },
      "execution_count": 5,
      "outputs": [
        {
          "output_type": "stream",
          "name": "stdout",
          "text": [
            "<class 'pandas.core.frame.DataFrame'>\n",
            "RangeIndex: 6390971 entries, 0 to 6390970\n",
            "Data columns (total 23 columns):\n",
            " #   Column                        Dtype  \n",
            "---  ------                        -----  \n",
            " 0   fecha reporte web             object \n",
            " 1   ID de caso                    object \n",
            " 2   Fecha de notificación         object \n",
            " 3   Código DIVIPOLA departamento  object \n",
            " 4   Nombre departamento           object \n",
            " 5   Código DIVIPOLA municipio     object \n",
            " 6   Nombre municipio              object \n",
            " 7   Edad                          int64  \n",
            " 8   Unidad de medida de edad      int64  \n",
            " 9   Sexo                          object \n",
            " 10  Tipo de contagio              object \n",
            " 11  Ubicación del caso            object \n",
            " 12  Estado                        object \n",
            " 13  Código ISO del país           object \n",
            " 14  Nombre del país               object \n",
            " 15  Recuperado                    object \n",
            " 16  Fecha de inicio de síntomas   object \n",
            " 17  Fecha de muerte               object \n",
            " 18  Fecha de diagnóstico          object \n",
            " 19  Fecha de recuperación         object \n",
            " 20  Tipo de recuperación          object \n",
            " 21  Pertenencia étnica            float64\n",
            " 22  Nombre del grupo étnico       object \n",
            "dtypes: float64(1), int64(2), object(20)\n",
            "memory usage: 1.1+ GB\n",
            "None\n"
          ]
        }
      ]
    },
    {
      "cell_type": "markdown",
      "source": [
        "El método .info() en Pandas es una herramienta muy útil para obtener un resumen rápido de un DataFrame. Proporciona información sobre la estructura del DataFrame, incluyendo el número de filas, el número de columnas, los nombres de las columnas, los tipos de datos de cada columna, la cantidad de valores no nulos y el uso de memoria.\n",
        "En resumen vemos que el objeto es un Dataframe de Pandas, tiene 6,390,971 filas, con índices que van desde 0 hasta 6,390,970, tiene 23 columnas, vemos que hay 3 tipos de datos object, int64, float64, El DataFrame está utilizando aproximadamente 1.1 gigabytes de memoria.\n",
        "Las columnas de tipo object contienen principalmente texto o fechas, que Pandas interpreta como objetos."
      ],
      "metadata": {
        "id": "byegFEWSsGBV"
      }
    },
    {
      "cell_type": "markdown",
      "source": [
        "**Visualiza la estructura del DataFrame (.head(),.tail() y .sample())**\n",
        "\n"
      ],
      "metadata": {
        "id": "3lcL23niuCs0"
      }
    },
    {
      "cell_type": "code",
      "source": [
        "# Mostrar las primeras 5 filas del DataFrame\n",
        "print(datos.head())"
      ],
      "metadata": {
        "colab": {
          "base_uri": "https://localhost:8080/"
        },
        "id": "ScPQnz-6uNLy",
        "outputId": "f3cc7b55-bcfe-4265-eab4-0fd7649ffa70"
      },
      "execution_count": 6,
      "outputs": [
        {
          "output_type": "stream",
          "name": "stdout",
          "text": [
            "     fecha reporte web ID de caso Fecha de notificación  \\\n",
            "0  2020-12-24 00:00:00  1,556,979   2020-12-22 00:00:00   \n",
            "1  2020-12-24 00:00:00  1,556,980   2020-12-19 00:00:00   \n",
            "2  2020-12-24 00:00:00  1,556,981   2020-12-19 00:00:00   \n",
            "3  2020-12-24 00:00:00  1,556,982   2020-12-22 00:00:00   \n",
            "4  2020-12-24 00:00:00  1,556,983   2020-12-22 00:00:00   \n",
            "\n",
            "  Código DIVIPOLA departamento Nombre departamento Código DIVIPOLA municipio  \\\n",
            "0                           76               VALLE                    76,001   \n",
            "1                           76               VALLE                    76,001   \n",
            "2                           76               VALLE                    76,001   \n",
            "3                           76               VALLE                    76,001   \n",
            "4                           76               VALLE                    76,001   \n",
            "\n",
            "  Nombre municipio  Edad  Unidad de medida de edad Sexo  ...  \\\n",
            "0             CALI    67                         1    F  ...   \n",
            "1             CALI    66                         1    F  ...   \n",
            "2             CALI    68                         1    F  ...   \n",
            "3             CALI    74                         1    F  ...   \n",
            "4             CALI    65                         1    F  ...   \n",
            "\n",
            "  Código ISO del país Nombre del país  Recuperado Fecha de inicio de síntomas  \\\n",
            "0                 NaN             NaN  Recuperado         2020-12-21 00:00:00   \n",
            "1                 NaN             NaN  Recuperado         2020-12-07 00:00:00   \n",
            "2                 NaN             NaN  Recuperado         2020-12-18 00:00:00   \n",
            "3                 NaN             NaN   Fallecido         2020-12-17 00:00:00   \n",
            "4                 NaN             NaN  Recuperado         2020-12-21 00:00:00   \n",
            "\n",
            "       Fecha de muerte Fecha de diagnóstico Fecha de recuperación  \\\n",
            "0                  NaN  2020-12-23 00:00:00   2021-01-04 00:00:00   \n",
            "1                  NaN  2020-12-23 00:00:00   2020-12-25 00:00:00   \n",
            "2                  NaN  2020-12-22 00:00:00   2021-01-01 00:00:00   \n",
            "3  2020-12-30 00:00:00  2020-12-23 00:00:00                   NaN   \n",
            "4                  NaN  2020-12-23 00:00:00   2021-01-04 00:00:00   \n",
            "\n",
            "  Tipo de recuperación Pertenencia étnica Nombre del grupo étnico  \n",
            "0               Tiempo                6.0                     NaN  \n",
            "1               Tiempo                6.0                     NaN  \n",
            "2               Tiempo                6.0                     NaN  \n",
            "3                  NaN                6.0                     NaN  \n",
            "4               Tiempo                6.0                     NaN  \n",
            "\n",
            "[5 rows x 23 columns]\n"
          ]
        }
      ]
    },
    {
      "cell_type": "markdown",
      "source": [
        ".head()\n",
        "Muestra las primeras filas del DataFrame (por defecto, las primeras 5 filas).\n",
        "Nos permite ver cómo comienzan los datos.\n",
        "Útil para verificar si los datos se cargaron correctamente y para entender la estructura inicial."
      ],
      "metadata": {
        "id": "MudMTETk3FLj"
      }
    },
    {
      "cell_type": "code",
      "source": [
        "# Mostrar las últimas 5 filas del DataFrame\n",
        "print(datos.tail())"
      ],
      "metadata": {
        "colab": {
          "base_uri": "https://localhost:8080/"
        },
        "id": "lRGXS9IW3gBo",
        "outputId": "a2cab44e-4b12-4dbe-c1e0-2340a9551d06"
      },
      "execution_count": 7,
      "outputs": [
        {
          "output_type": "stream",
          "name": "stdout",
          "text": [
            "           fecha reporte web ID de caso Fecha de notificación  \\\n",
            "6390966  2021-10-24 00:00:00  4,990,088   2021-10-19 00:00:00   \n",
            "6390967  2021-10-24 00:00:00  4,990,091   2021-10-23 00:00:00   \n",
            "6390968  2021-10-24 00:00:00  4,990,092   2021-10-19 00:00:00   \n",
            "6390969  2021-10-24 00:00:00  4,990,095   2021-11-05 00:00:00   \n",
            "6390970  2021-10-24 00:00:00  4,990,096   2021-10-22 00:00:00   \n",
            "\n",
            "        Código DIVIPOLA departamento Nombre departamento  \\\n",
            "6390966                           76               VALLE   \n",
            "6390967                           76               VALLE   \n",
            "6390968                           76               VALLE   \n",
            "6390969                           76               VALLE   \n",
            "6390970                           76               VALLE   \n",
            "\n",
            "        Código DIVIPOLA municipio Nombre municipio  Edad  \\\n",
            "6390966                    76,520          PALMIRA    37   \n",
            "6390967                    76,520          PALMIRA    36   \n",
            "6390968                    76,364          JAMUNDI    39   \n",
            "6390969                    76,364          JAMUNDI    43   \n",
            "6390970                    76,364          JAMUNDI    16   \n",
            "\n",
            "         Unidad de medida de edad Sexo  ... Código ISO del país  \\\n",
            "6390966                         1    M  ...                 NaN   \n",
            "6390967                         1    M  ...                 NaN   \n",
            "6390968                         1    F  ...                 NaN   \n",
            "6390969                         1    F  ...                 NaN   \n",
            "6390970                         1    M  ...                 NaN   \n",
            "\n",
            "        Nombre del país  Recuperado Fecha de inicio de síntomas  \\\n",
            "6390966             NaN  Recuperado         2021-10-13 00:00:00   \n",
            "6390967             NaN  Recuperado         2021-10-16 00:00:00   \n",
            "6390968             NaN  Recuperado         2021-10-18 00:00:00   \n",
            "6390969             NaN  Recuperado         2021-10-21 00:00:00   \n",
            "6390970             NaN  Recuperado         2021-10-21 00:00:00   \n",
            "\n",
            "        Fecha de muerte Fecha de diagnóstico Fecha de recuperación  \\\n",
            "6390966             NaN  2021-10-23 00:00:00   2021-10-27 00:00:00   \n",
            "6390967             NaN  2021-10-23 00:00:00   2021-10-30 00:00:00   \n",
            "6390968             NaN  2021-10-23 00:00:00   2021-11-01 00:00:00   \n",
            "6390969             NaN  2021-10-23 00:00:00   2021-11-04 00:00:00   \n",
            "6390970             NaN  2021-10-23 00:00:00   2021-11-04 00:00:00   \n",
            "\n",
            "        Tipo de recuperación Pertenencia étnica Nombre del grupo étnico  \n",
            "6390966               Tiempo                6.0                     NaN  \n",
            "6390967               Tiempo                6.0                     NaN  \n",
            "6390968               Tiempo                6.0                     NaN  \n",
            "6390969                  PCR                6.0                     NaN  \n",
            "6390970                  PCR                6.0                     NaN  \n",
            "\n",
            "[5 rows x 23 columns]\n"
          ]
        }
      ]
    },
    {
      "cell_type": "markdown",
      "source": [
        ".tail()\n",
        "Muestra las últimas filas del DataFrame (por defecto, las últimas 5 filas).\n",
        "Nos permite ver cómo terminan los datos.\n",
        "Útil para verificar si hay algún problema con los datos al final del archivo."
      ],
      "metadata": {
        "id": "iLJUKR6H35nr"
      }
    },
    {
      "cell_type": "code",
      "source": [
        "# Mostrar una fila aleatoria del DataFrame\n",
        "print(datos.sample())"
      ],
      "metadata": {
        "colab": {
          "base_uri": "https://localhost:8080/"
        },
        "id": "4xiG8Pp14LLm",
        "outputId": "26063ba2-2092-4e03-eddc-b34a38ed1263"
      },
      "execution_count": 8,
      "outputs": [
        {
          "output_type": "stream",
          "name": "stdout",
          "text": [
            "           fecha reporte web ID de caso Fecha de notificación  \\\n",
            "1181686  2021-05-15 00:00:00  3,102,940   2021-05-02 00:00:00   \n",
            "\n",
            "        Código DIVIPOLA departamento Nombre departamento  \\\n",
            "1181686                           17              CALDAS   \n",
            "\n",
            "        Código DIVIPOLA municipio Nombre municipio  Edad  \\\n",
            "1181686                    17,001        MANIZALES    35   \n",
            "\n",
            "         Unidad de medida de edad Sexo  ... Código ISO del país  \\\n",
            "1181686                         1    F  ...                 NaN   \n",
            "\n",
            "        Nombre del país  Recuperado Fecha de inicio de síntomas  \\\n",
            "1181686             NaN  Recuperado         2021-04-28 00:00:00   \n",
            "\n",
            "        Fecha de muerte Fecha de diagnóstico Fecha de recuperación  \\\n",
            "1181686             NaN  2021-05-13 00:00:00   2021-05-16 00:00:00   \n",
            "\n",
            "        Tipo de recuperación Pertenencia étnica Nombre del grupo étnico  \n",
            "1181686               Tiempo                6.0                     NaN  \n",
            "\n",
            "[1 rows x 23 columns]\n"
          ]
        }
      ]
    },
    {
      "cell_type": "markdown",
      "source": [
        ".sample()\n",
        "Muestra una fila aleatoria del DataFrame.\n",
        "Nos da una vista aleatoria de los datos.\n",
        "Útil para inspeccionar filas en diferentes partes del DataFrame sin sesgo."
      ],
      "metadata": {
        "id": "16UJ9cpj4gPP"
      }
    },
    {
      "cell_type": "markdown",
      "source": [
        "**Utiliza value_counts(dropna=False), para visualizar las siguientes variables: Estado, Atención, Sexo, Tipo, País_procedencia, Tipo_recuperación, Pertenencia_étnica, Nombre_grupo_étnico**"
      ],
      "metadata": {
        "id": "VIQNp6Qd5B5C"
      }
    },
    {
      "cell_type": "code",
      "source": [
        "# Lista de columnas a analizar\n",
        "columns_to_analyze = [\n",
        "    'Estado', 'Sexo', 'Tipo de contagio', 'Nombre del país',\n",
        "    'Tipo de recuperación', 'Pertenencia étnica', 'Nombre del grupo étnico'\n",
        "]\n",
        "\n",
        "# Iterar sobre cada columna y aplicar value_counts(dropna=False)\n",
        "for column in columns_to_analyze:\n",
        "    print(f\"Distribución de valores en la columna '{column}':\")\n",
        "    print(datos[column].value_counts(dropna=False))\n",
        "    print(\"\\n\" + \"=\"*50 + \"\\n\")  # Separador visual"
      ],
      "metadata": {
        "colab": {
          "base_uri": "https://localhost:8080/"
        },
        "id": "iMssU9FC5Gj0",
        "outputId": "c8c14c6a-a6dd-4cf0-815c-574ed0171fb7"
      },
      "execution_count": 10,
      "outputs": [
        {
          "output_type": "stream",
          "name": "stdout",
          "text": [
            "Distribución de valores en la columna 'Estado':\n",
            "Estado\n",
            "Leve         6154791\n",
            "Fallecido     143125\n",
            "leve           50623\n",
            "NaN            41268\n",
            "Moderado        1056\n",
            "Grave            106\n",
            "LEVE               2\n",
            "Name: count, dtype: int64\n",
            "\n",
            "==================================================\n",
            "\n",
            "Distribución de valores en la columna 'Sexo':\n",
            "Sexo\n",
            "F    3417087\n",
            "M    2973872\n",
            "f          6\n",
            "m          6\n",
            "Name: count, dtype: int64\n",
            "\n",
            "==================================================\n",
            "\n",
            "Distribución de valores en la columna 'Tipo de contagio':\n",
            "Tipo de contagio\n",
            "Comunitaria    4447740\n",
            "Relacionado    1939528\n",
            "Importado         3703\n",
            "Name: count, dtype: int64\n",
            "\n",
            "==================================================\n",
            "\n",
            "Distribución de valores en la columna 'Nombre del país':\n",
            "Nombre del país\n",
            "NaN                          6387253\n",
            "ESTADOS UNIDOS DE AMÉRICA       1418\n",
            "MÉXICO                           385\n",
            "ESPAÑA                           370\n",
            "BRASIL                           285\n",
            "                              ...   \n",
            "ANDORRA                            1\n",
            "KENYA                              1\n",
            "GUADALUPE                          1\n",
            "REPÚBLICA DOCIMINCANA              1\n",
            "HAITÍ                              1\n",
            "Name: count, Length: 90, dtype: int64\n",
            "\n",
            "==================================================\n",
            "\n",
            "Distribución de valores en la columna 'Tipo de recuperación':\n",
            "Tipo de recuperación\n",
            "Tiempo    5274348\n",
            "PCR        933773\n",
            "NaN        182398\n",
            "TIEMPO        452\n",
            "Name: count, dtype: int64\n",
            "\n",
            "==================================================\n",
            "\n",
            "Distribución de valores en la columna 'Pertenencia étnica':\n",
            "Pertenencia étnica\n",
            "6.0    6166659\n",
            "5.0     137411\n",
            "1.0      84202\n",
            "NaN       2156\n",
            "3.0        405\n",
            "2.0        138\n",
            "Name: count, dtype: int64\n",
            "\n",
            "==================================================\n",
            "\n",
            "Distribución de valores en la columna 'Nombre del grupo étnico':\n",
            "Nombre del grupo étnico\n",
            "NaN              6307107\n",
            "Por definir        17222\n",
            "Sin Comunidad      12064\n",
            "ZENU                9264\n",
            "PIJAO               4112\n",
            "                  ...   \n",
            "YULA                   1\n",
            "CHARCO CAIMAN          1\n",
            "KAIKAISHI              1\n",
            "TEKIA                  1\n",
            "MASHALERRAIN           1\n",
            "Name: count, Length: 1888, dtype: int64\n",
            "\n",
            "==================================================\n",
            "\n"
          ]
        }
      ]
    },
    {
      "cell_type": "markdown",
      "source": [
        "el método .value_counts(dropna=False) cuenta la frecuencia de cada valor único en una columna, incluyendo los valores NaN (valores faltantes) si dropna=False.\n",
        "\n",
        "value_counts() cuenta cuántas veces aparece cada valor en la columna.\n",
        "dropna=False asegura que también se cuenten los valores nulos (NaN).\n",
        "\n",
        "Este método es muy útil para analizar datos categóricos y detectar valores nulos dentro de un conjunto de datos."
      ],
      "metadata": {
        "id": "36JndHZJ78Qa"
      }
    }
  ]
}